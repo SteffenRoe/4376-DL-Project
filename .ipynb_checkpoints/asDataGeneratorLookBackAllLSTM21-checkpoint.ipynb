{
 "cells": [
  {
   "cell_type": "code",
   "execution_count": 1,
   "metadata": {},
   "outputs": [
    {
     "name": "stdout",
     "output_type": "stream",
     "text": [
      "[name: \"/device:CPU:0\"\n",
      "device_type: \"CPU\"\n",
      "memory_limit: 268435456\n",
      "locality {\n",
      "}\n",
      "incarnation: 8697467438462794785\n",
      ", name: \"/device:XLA_CPU:0\"\n",
      "device_type: \"XLA_CPU\"\n",
      "memory_limit: 17179869184\n",
      "locality {\n",
      "}\n",
      "incarnation: 15094329791039619669\n",
      "physical_device_desc: \"device: XLA_CPU device\"\n",
      "]\n"
     ]
    },
    {
     "name": "stderr",
     "output_type": "stream",
     "text": [
      "Using TensorFlow backend.\n"
     ]
    }
   ],
   "source": [
    "### load Data \n",
    "import tensorflow as tf\n",
    "import gzip\n",
    "from tensorflow.python.client import device_lib\n",
    "print(device_lib.list_local_devices())\n",
    "import keras as ks\n",
    "import keras\n",
    "import numpy as np\n",
    "import keras.backend as K\n",
    "from random import random\n",
    "from random import randint\n",
    "from numpy import array\n",
    "from numpy import zeros\n",
    "from keras.models import Sequential\n",
    "from keras.layers import Conv2D\n",
    "from keras.layers import MaxPooling2D\n",
    "from keras.layers import LSTM\n",
    "from keras.layers import Dense\n",
    "from keras.layers import Flatten\n",
    "from keras.layers import BatchNormalization\n",
    "from keras.layers import TimeDistributed\n",
    "from keras.layers import Conv1D\n",
    "from keras.layers import MaxPooling1D\n",
    "from keras.layers import AveragePooling1D\n",
    "from keras.callbacks import LambdaCallback\n",
    "from keras import optimizers\n",
    "from keras.layers.merge import concatenate\n",
    "from keras.utils import plot_model\n",
    "from keras.models import Model\n",
    "from keras.layers import Input\n",
    "from keras.utils import multi_gpu_model\n",
    "import multiprocessing\n",
    "#from eli5.sklearn import PermutationImportance\n",
    "#from numba import jit\n",
    "from keras.optimizers import Adam\n",
    "from keras.callbacks import EarlyStopping\n",
    "#from hyperopt import Trials, STATUS_OK, tpe\n",
    "#from hyperas import optim\n",
    "#from hyperas.distributions import choice\n",
    "import numpy as np\n",
    "import pickle \n",
    "import os\n",
    "from keras.preprocessing.sequence import TimeseriesGenerator"
   ]
  },
  {
   "cell_type": "code",
   "execution_count": 2,
   "metadata": {},
   "outputs": [
    {
     "name": "stderr",
     "output_type": "stream",
     "text": [
      "/home/sr4376/miniconda3/envs/testCheckv3/lib/python3.6/site-packages/sklearn/externals/joblib/__init__.py:15: FutureWarning: sklearn.externals.joblib is deprecated in 0.21 and will be removed in 0.23. Please import this functionality directly from joblib, which can be installed with: pip install joblib. If this warning is raised when loading pickled models, you may need to re-serialize those models with scikit-learn 0.21+.\n",
      "  warnings.warn(msg, category=FutureWarning)\n"
     ]
    }
   ],
   "source": [
    "\n",
    "import multiprocessing\n",
    "#import dask.dataframe as dk\n",
    "import pandas as pd\n",
    "import numpy as np\n",
    "import datetime as dt\n",
    "\n",
    "#import matplotlib.pyplot as plt\n",
    "idx=pd.IndexSlice\n",
    "from sklearn.metrics import make_scorer, r2_score,accuracy_score,precision_score\n",
    "from sklearn.externals import joblib\n",
    "import os\n",
    "import gc\n",
    "from sklearn.ensemble import RandomForestClassifier\n",
    "from sklearn import preprocessing\n",
    "from tqdm import tqdm\n",
    "import inspect \n"
   ]
  },
  {
   "cell_type": "code",
   "execution_count": 3,
   "metadata": {},
   "outputs": [
    {
     "data": {
      "text/plain": [
       "48"
      ]
     },
     "execution_count": 3,
     "metadata": {},
     "output_type": "execute_result"
    }
   ],
   "source": [
    "\n",
    "multiprocessing.cpu_count()\n",
    "\n"
   ]
  },
  {
   "cell_type": "code",
   "execution_count": 4,
   "metadata": {},
   "outputs": [],
   "source": [
    "\n",
    "mainFrame=pd.read_csv('/beegfs/sr4376/Finance Data/CNN-LSTM Data/NormalizedAllDataAndTargetSharpe.csv',parse_dates=[\"date\"])\n"
   ]
  },
  {
   "cell_type": "code",
   "execution_count": 5,
   "metadata": {},
   "outputs": [],
   "source": [
    "mainFrame.set_index(['entityID','date'],inplace=True)\n",
    "#mainFrame=mainFrame20052018\n",
    "mainFrame.dropna(axis=0,inplace=True)\n",
    "mainFrame.sort_index(inplace=True)\n",
    "#mainFrame=mainFrame[~(mainFrame.index.get_level_values(1)>'2012')]\n"
   ]
  },
  {
   "cell_type": "code",
   "execution_count": 6,
   "metadata": {},
   "outputs": [],
   "source": [
    "mainFrame.dropna(axis=0,inplace=True)\n",
    "mainFrame.sort_index(inplace=True)"
   ]
  },
  {
   "cell_type": "code",
   "execution_count": 7,
   "metadata": {},
   "outputs": [],
   "source": [
    "mainFrame.drop(columns=mainFrame.columns[175:203],inplace=True)"
   ]
  },
  {
   "cell_type": "code",
   "execution_count": 8,
   "metadata": {},
   "outputs": [],
   "source": [
    "\n",
    "targets=mainFrame['targetForSharpe']\n",
    "features = mainFrame.iloc[:,:-8]\n"
   ]
  },
  {
   "cell_type": "code",
   "execution_count": 23,
   "metadata": {},
   "outputs": [],
   "source": [
    "targets=mainFrame['ztargetMedian5']"
   ]
  },
  {
   "cell_type": "code",
   "execution_count": 9,
   "metadata": {},
   "outputs": [],
   "source": [
    "featureImportance=pd.read_csv('D:\\checkFeatures.csv')"
   ]
  },
  {
   "cell_type": "code",
   "execution_count": 10,
   "metadata": {},
   "outputs": [],
   "source": [
    "featureImportance.set_index('Unnamed: 0',inplace=True)"
   ]
  },
  {
   "cell_type": "code",
   "execution_count": 11,
   "metadata": {},
   "outputs": [
    {
     "data": {
      "text/plain": [
       "Index(['crossStd120', 'crossStd160', 'crossStd220', 'crossStd240',\n",
       "       'crossStd180', 'crossStd100', 'crossStd200', 'volatility_atr_x',\n",
       "       'crossStd140', 'price240',\n",
       "       ...\n",
       "       'momentum_wr_xcross', 'trend_macd_signal_x', 'momentum_wr_x',\n",
       "       'trend_kst_xcross', 'momentum_ao_x', 'volatility_dcl_xcross',\n",
       "       'volume_obv_x', 'price40', 'return7cross', 'return19'],\n",
       "      dtype='object', name='Unnamed: 0', length=150)"
      ]
     },
     "execution_count": 11,
     "metadata": {},
     "output_type": "execute_result"
    }
   ],
   "source": [
    "featureImportance.nlargest(150,columns='0').index.get_level_values(0)"
   ]
  },
  {
   "cell_type": "code",
   "execution_count": 12,
   "metadata": {},
   "outputs": [],
   "source": [
    "features=features.loc[:,featureImportance.nlargest(100,columns='0').index.get_level_values(0)]"
   ]
  },
  {
   "cell_type": "code",
   "execution_count": 13,
   "metadata": {},
   "outputs": [],
   "source": [
    "\n",
    "\n",
    "class DataGenerator(keras.utils.Sequence):\n",
    "    def __init__(self, feature,target, length, batch_size=128):\n",
    "        entityIDs=feature.index.get_level_values(0).unique()\n",
    "        self.tgs = list()\n",
    "        self.indexObject = pd.DataFrame([])\n",
    "        for i in tqdm(entityIDs):\n",
    "         \n",
    "            featuredf = feature[feature.index.get_level_values(0) == i]\n",
    "            targetdf = target[target.index.get_level_values(0) == i]\n",
    "\n",
    "            tmpIDX = pd.DataFrame([featuredf.index.get_level_values(0).values,featuredf.index.get_level_values(1).values]).T\n",
    "            if self.indexObject.empty:\n",
    "                self.indexObject = tmpIDX.iloc[length:]\n",
    "            else:\n",
    "                self.indexObject = self.indexObject.append(tmpIDX.iloc[length:])\n",
    "            if len(targetdf)>length:\n",
    "                self.tgs.append(TimeseriesGenerator(featuredf.values,targetdf.values,length,batch_size =batch_size))\n",
    "        self.len = sum([len(tg) for tg in self.tgs])\n",
    "        self.idx_i = list()\n",
    "        self.idx_j = list()\n",
    "\n",
    "        for i, tg in enumerate(self.tgs):\n",
    "            self.idx_i.extend(list(range(len(tg))))\n",
    "            self.idx_j.extend([i]*len(tg))    \n",
    "        #print ( self.idx_i,  self.idx_j)\n",
    "\n",
    "    def __len__(self):\n",
    "        return self.len\n",
    "\n",
    "    def __getitem__(self, index):\n",
    "        return self.tgs[self.idx_j[index]][self.idx_i[index]]\n"
   ]
  },
  {
   "cell_type": "code",
   "execution_count": 14,
   "metadata": {},
   "outputs": [
    {
     "data": {
      "text/html": [
       "<div>\n",
       "<style scoped>\n",
       "    .dataframe tbody tr th:only-of-type {\n",
       "        vertical-align: middle;\n",
       "    }\n",
       "\n",
       "    .dataframe tbody tr th {\n",
       "        vertical-align: top;\n",
       "    }\n",
       "\n",
       "    .dataframe thead th {\n",
       "        text-align: right;\n",
       "    }\n",
       "</style>\n",
       "<table border=\"1\" class=\"dataframe\">\n",
       "  <thead>\n",
       "    <tr style=\"text-align: right;\">\n",
       "      <th></th>\n",
       "      <th>Unnamed: 0</th>\n",
       "      <th>crossStd120</th>\n",
       "      <th>crossStd160</th>\n",
       "      <th>crossStd220</th>\n",
       "      <th>crossStd240</th>\n",
       "      <th>crossStd180</th>\n",
       "      <th>crossStd100</th>\n",
       "      <th>crossStd200</th>\n",
       "      <th>volatility_atr_x</th>\n",
       "      <th>crossStd140</th>\n",
       "      <th>price240</th>\n",
       "      <th>...</th>\n",
       "      <th>price80</th>\n",
       "      <th>crossStd16</th>\n",
       "      <th>return4</th>\n",
       "      <th>return5</th>\n",
       "      <th>volatility_dchi_x</th>\n",
       "      <th>momentum_tsi_x</th>\n",
       "      <th>return3</th>\n",
       "      <th>trend_aroon_up_x</th>\n",
       "      <th>trend_kst_sig_xcross</th>\n",
       "      <th>price60</th>\n",
       "    </tr>\n",
       "    <tr>\n",
       "      <th>entityID</th>\n",
       "      <th>date</th>\n",
       "      <th></th>\n",
       "      <th></th>\n",
       "      <th></th>\n",
       "      <th></th>\n",
       "      <th></th>\n",
       "      <th></th>\n",
       "      <th></th>\n",
       "      <th></th>\n",
       "      <th></th>\n",
       "      <th></th>\n",
       "      <th></th>\n",
       "      <th></th>\n",
       "      <th></th>\n",
       "      <th></th>\n",
       "      <th></th>\n",
       "      <th></th>\n",
       "      <th></th>\n",
       "      <th></th>\n",
       "      <th></th>\n",
       "      <th></th>\n",
       "      <th></th>\n",
       "    </tr>\n",
       "  </thead>\n",
       "  <tbody>\n",
       "    <tr>\n",
       "      <th rowspan=\"5\" valign=\"top\">1034</th>\n",
       "      <th>2007-03-01</th>\n",
       "      <td>-0.570219</td>\n",
       "      <td>-0.823187</td>\n",
       "      <td>-0.467222</td>\n",
       "      <td>0.664990</td>\n",
       "      <td>-0.882222</td>\n",
       "      <td>-0.716819</td>\n",
       "      <td>-0.808114</td>\n",
       "      <td>-1.509487</td>\n",
       "      <td>-0.835545</td>\n",
       "      <td>1.115381</td>\n",
       "      <td>...</td>\n",
       "      <td>-0.366971</td>\n",
       "      <td>-0.269859</td>\n",
       "      <td>-1.125645</td>\n",
       "      <td>-1.163187</td>\n",
       "      <td>-0.346410</td>\n",
       "      <td>2.164435</td>\n",
       "      <td>-1.158417</td>\n",
       "      <td>0.044489</td>\n",
       "      <td>1.309489</td>\n",
       "      <td>-0.144539</td>\n",
       "    </tr>\n",
       "    <tr>\n",
       "      <th>2007-03-02</th>\n",
       "      <td>-0.572254</td>\n",
       "      <td>-0.826444</td>\n",
       "      <td>-0.457100</td>\n",
       "      <td>0.951922</td>\n",
       "      <td>-0.880660</td>\n",
       "      <td>-0.724401</td>\n",
       "      <td>-0.808288</td>\n",
       "      <td>-1.178735</td>\n",
       "      <td>-0.839499</td>\n",
       "      <td>0.924579</td>\n",
       "      <td>...</td>\n",
       "      <td>-0.675602</td>\n",
       "      <td>-0.268175</td>\n",
       "      <td>-2.061060</td>\n",
       "      <td>-1.972516</td>\n",
       "      <td>-0.346410</td>\n",
       "      <td>1.942531</td>\n",
       "      <td>-1.051987</td>\n",
       "      <td>-0.076155</td>\n",
       "      <td>1.194980</td>\n",
       "      <td>-0.318112</td>\n",
       "    </tr>\n",
       "    <tr>\n",
       "      <th>2007-03-05</th>\n",
       "      <td>-0.576295</td>\n",
       "      <td>-0.827778</td>\n",
       "      <td>-0.467256</td>\n",
       "      <td>0.923943</td>\n",
       "      <td>-0.889035</td>\n",
       "      <td>-0.729095</td>\n",
       "      <td>-0.811433</td>\n",
       "      <td>-1.280377</td>\n",
       "      <td>-0.846750</td>\n",
       "      <td>0.913169</td>\n",
       "      <td>...</td>\n",
       "      <td>-0.772324</td>\n",
       "      <td>-0.268561</td>\n",
       "      <td>-1.051231</td>\n",
       "      <td>-1.981813</td>\n",
       "      <td>-0.346410</td>\n",
       "      <td>1.735325</td>\n",
       "      <td>-1.079901</td>\n",
       "      <td>-0.197374</td>\n",
       "      <td>1.082079</td>\n",
       "      <td>-0.153304</td>\n",
       "    </tr>\n",
       "    <tr>\n",
       "      <th>2007-03-06</th>\n",
       "      <td>-0.570456</td>\n",
       "      <td>-0.813596</td>\n",
       "      <td>-0.849633</td>\n",
       "      <td>-0.023207</td>\n",
       "      <td>-0.889297</td>\n",
       "      <td>-0.722382</td>\n",
       "      <td>-0.803159</td>\n",
       "      <td>-1.181582</td>\n",
       "      <td>-0.834050</td>\n",
       "      <td>0.922681</td>\n",
       "      <td>...</td>\n",
       "      <td>-0.343498</td>\n",
       "      <td>-0.269671</td>\n",
       "      <td>-0.417034</td>\n",
       "      <td>-0.482202</td>\n",
       "      <td>-0.346410</td>\n",
       "      <td>1.585055</td>\n",
       "      <td>-0.833036</td>\n",
       "      <td>-0.319342</td>\n",
       "      <td>0.973049</td>\n",
       "      <td>0.014485</td>\n",
       "    </tr>\n",
       "    <tr>\n",
       "      <th>2007-03-07</th>\n",
       "      <td>-0.572158</td>\n",
       "      <td>-0.811341</td>\n",
       "      <td>-0.839926</td>\n",
       "      <td>-0.189590</td>\n",
       "      <td>-0.887652</td>\n",
       "      <td>-0.722108</td>\n",
       "      <td>-0.801651</td>\n",
       "      <td>-1.116762</td>\n",
       "      <td>-0.833558</td>\n",
       "      <td>0.751781</td>\n",
       "      <td>...</td>\n",
       "      <td>-0.441518</td>\n",
       "      <td>-0.268705</td>\n",
       "      <td>-1.166322</td>\n",
       "      <td>-0.781970</td>\n",
       "      <td>-0.346410</td>\n",
       "      <td>1.413958</td>\n",
       "      <td>-0.064518</td>\n",
       "      <td>-0.442233</td>\n",
       "      <td>0.866362</td>\n",
       "      <td>-0.098277</td>\n",
       "    </tr>\n",
       "    <tr>\n",
       "      <th>...</th>\n",
       "      <th>...</th>\n",
       "      <td>...</td>\n",
       "      <td>...</td>\n",
       "      <td>...</td>\n",
       "      <td>...</td>\n",
       "      <td>...</td>\n",
       "      <td>...</td>\n",
       "      <td>...</td>\n",
       "      <td>...</td>\n",
       "      <td>...</td>\n",
       "      <td>...</td>\n",
       "      <td>...</td>\n",
       "      <td>...</td>\n",
       "      <td>...</td>\n",
       "      <td>...</td>\n",
       "      <td>...</td>\n",
       "      <td>...</td>\n",
       "      <td>...</td>\n",
       "      <td>...</td>\n",
       "      <td>...</td>\n",
       "      <td>...</td>\n",
       "      <td>...</td>\n",
       "    </tr>\n",
       "    <tr>\n",
       "      <th rowspan=\"5\" valign=\"top\">296318</th>\n",
       "      <th>2015-06-18</th>\n",
       "      <td>1.245677</td>\n",
       "      <td>0.009199</td>\n",
       "      <td>0.391921</td>\n",
       "      <td>-0.196737</td>\n",
       "      <td>0.284253</td>\n",
       "      <td>0.566662</td>\n",
       "      <td>-0.334788</td>\n",
       "      <td>-1.014274</td>\n",
       "      <td>0.040891</td>\n",
       "      <td>-1.158990</td>\n",
       "      <td>...</td>\n",
       "      <td>-1.722372</td>\n",
       "      <td>-0.444328</td>\n",
       "      <td>-0.814077</td>\n",
       "      <td>-1.064222</td>\n",
       "      <td>-0.233224</td>\n",
       "      <td>0.246631</td>\n",
       "      <td>-0.912404</td>\n",
       "      <td>-0.685094</td>\n",
       "      <td>0.236132</td>\n",
       "      <td>-1.631751</td>\n",
       "    </tr>\n",
       "    <tr>\n",
       "      <th>2015-06-19</th>\n",
       "      <td>1.070683</td>\n",
       "      <td>0.045367</td>\n",
       "      <td>0.379149</td>\n",
       "      <td>0.164005</td>\n",
       "      <td>0.440173</td>\n",
       "      <td>0.523445</td>\n",
       "      <td>-0.223256</td>\n",
       "      <td>-1.086186</td>\n",
       "      <td>-0.066659</td>\n",
       "      <td>-1.169022</td>\n",
       "      <td>...</td>\n",
       "      <td>-1.659232</td>\n",
       "      <td>-0.470532</td>\n",
       "      <td>-0.453941</td>\n",
       "      <td>-0.420047</td>\n",
       "      <td>-0.223607</td>\n",
       "      <td>0.187194</td>\n",
       "      <td>-0.472658</td>\n",
       "      <td>-0.810800</td>\n",
       "      <td>0.044007</td>\n",
       "      <td>-1.588879</td>\n",
       "    </tr>\n",
       "    <tr>\n",
       "      <th>2015-06-22</th>\n",
       "      <td>1.454468</td>\n",
       "      <td>-0.059594</td>\n",
       "      <td>0.483926</td>\n",
       "      <td>0.321188</td>\n",
       "      <td>0.468035</td>\n",
       "      <td>0.868782</td>\n",
       "      <td>-0.058789</td>\n",
       "      <td>-1.201015</td>\n",
       "      <td>-0.077641</td>\n",
       "      <td>-1.167338</td>\n",
       "      <td>...</td>\n",
       "      <td>-1.731273</td>\n",
       "      <td>-0.447631</td>\n",
       "      <td>-0.332348</td>\n",
       "      <td>-0.332876</td>\n",
       "      <td>-0.213643</td>\n",
       "      <td>0.135294</td>\n",
       "      <td>-0.169944</td>\n",
       "      <td>-0.937884</td>\n",
       "      <td>-0.139523</td>\n",
       "      <td>-1.558805</td>\n",
       "    </tr>\n",
       "    <tr>\n",
       "      <th>2015-06-23</th>\n",
       "      <td>1.696421</td>\n",
       "      <td>-0.179802</td>\n",
       "      <td>0.476902</td>\n",
       "      <td>0.429468</td>\n",
       "      <td>0.257172</td>\n",
       "      <td>0.788427</td>\n",
       "      <td>-0.194545</td>\n",
       "      <td>-1.299266</td>\n",
       "      <td>0.039690</td>\n",
       "      <td>-1.189902</td>\n",
       "      <td>...</td>\n",
       "      <td>-1.672453</td>\n",
       "      <td>-0.451785</td>\n",
       "      <td>-0.263860</td>\n",
       "      <td>-0.397089</td>\n",
       "      <td>-0.213643</td>\n",
       "      <td>0.084415</td>\n",
       "      <td>0.374766</td>\n",
       "      <td>-0.666060</td>\n",
       "      <td>-0.316600</td>\n",
       "      <td>-1.578370</td>\n",
       "    </tr>\n",
       "    <tr>\n",
       "      <th>2015-06-24</th>\n",
       "      <td>1.712907</td>\n",
       "      <td>-0.237267</td>\n",
       "      <td>0.246639</td>\n",
       "      <td>0.355254</td>\n",
       "      <td>0.285387</td>\n",
       "      <td>0.712145</td>\n",
       "      <td>-0.344485</td>\n",
       "      <td>-1.400290</td>\n",
       "      <td>-0.081649</td>\n",
       "      <td>-1.250384</td>\n",
       "      <td>...</td>\n",
       "      <td>-1.675201</td>\n",
       "      <td>-0.549656</td>\n",
       "      <td>0.152692</td>\n",
       "      <td>-0.383478</td>\n",
       "      <td>-0.213643</td>\n",
       "      <td>0.032530</td>\n",
       "      <td>-0.234845</td>\n",
       "      <td>-0.794524</td>\n",
       "      <td>-0.482840</td>\n",
       "      <td>-1.579829</td>\n",
       "    </tr>\n",
       "  </tbody>\n",
       "</table>\n",
       "<p>5958419 rows × 100 columns</p>\n",
       "</div>"
      ],
      "text/plain": [
       "Unnamed: 0           crossStd120  crossStd160  crossStd220  crossStd240  \\\n",
       "entityID date                                                             \n",
       "1034     2007-03-01    -0.570219    -0.823187    -0.467222     0.664990   \n",
       "         2007-03-02    -0.572254    -0.826444    -0.457100     0.951922   \n",
       "         2007-03-05    -0.576295    -0.827778    -0.467256     0.923943   \n",
       "         2007-03-06    -0.570456    -0.813596    -0.849633    -0.023207   \n",
       "         2007-03-07    -0.572158    -0.811341    -0.839926    -0.189590   \n",
       "...                          ...          ...          ...          ...   \n",
       "296318   2015-06-18     1.245677     0.009199     0.391921    -0.196737   \n",
       "         2015-06-19     1.070683     0.045367     0.379149     0.164005   \n",
       "         2015-06-22     1.454468    -0.059594     0.483926     0.321188   \n",
       "         2015-06-23     1.696421    -0.179802     0.476902     0.429468   \n",
       "         2015-06-24     1.712907    -0.237267     0.246639     0.355254   \n",
       "\n",
       "Unnamed: 0           crossStd180  crossStd100  crossStd200  volatility_atr_x  \\\n",
       "entityID date                                                                  \n",
       "1034     2007-03-01    -0.882222    -0.716819    -0.808114         -1.509487   \n",
       "         2007-03-02    -0.880660    -0.724401    -0.808288         -1.178735   \n",
       "         2007-03-05    -0.889035    -0.729095    -0.811433         -1.280377   \n",
       "         2007-03-06    -0.889297    -0.722382    -0.803159         -1.181582   \n",
       "         2007-03-07    -0.887652    -0.722108    -0.801651         -1.116762   \n",
       "...                          ...          ...          ...               ...   \n",
       "296318   2015-06-18     0.284253     0.566662    -0.334788         -1.014274   \n",
       "         2015-06-19     0.440173     0.523445    -0.223256         -1.086186   \n",
       "         2015-06-22     0.468035     0.868782    -0.058789         -1.201015   \n",
       "         2015-06-23     0.257172     0.788427    -0.194545         -1.299266   \n",
       "         2015-06-24     0.285387     0.712145    -0.344485         -1.400290   \n",
       "\n",
       "Unnamed: 0           crossStd140  price240  ...   price80  crossStd16  \\\n",
       "entityID date                               ...                         \n",
       "1034     2007-03-01    -0.835545  1.115381  ... -0.366971   -0.269859   \n",
       "         2007-03-02    -0.839499  0.924579  ... -0.675602   -0.268175   \n",
       "         2007-03-05    -0.846750  0.913169  ... -0.772324   -0.268561   \n",
       "         2007-03-06    -0.834050  0.922681  ... -0.343498   -0.269671   \n",
       "         2007-03-07    -0.833558  0.751781  ... -0.441518   -0.268705   \n",
       "...                          ...       ...  ...       ...         ...   \n",
       "296318   2015-06-18     0.040891 -1.158990  ... -1.722372   -0.444328   \n",
       "         2015-06-19    -0.066659 -1.169022  ... -1.659232   -0.470532   \n",
       "         2015-06-22    -0.077641 -1.167338  ... -1.731273   -0.447631   \n",
       "         2015-06-23     0.039690 -1.189902  ... -1.672453   -0.451785   \n",
       "         2015-06-24    -0.081649 -1.250384  ... -1.675201   -0.549656   \n",
       "\n",
       "Unnamed: 0            return4   return5  volatility_dchi_x  momentum_tsi_x  \\\n",
       "entityID date                                                                \n",
       "1034     2007-03-01 -1.125645 -1.163187          -0.346410        2.164435   \n",
       "         2007-03-02 -2.061060 -1.972516          -0.346410        1.942531   \n",
       "         2007-03-05 -1.051231 -1.981813          -0.346410        1.735325   \n",
       "         2007-03-06 -0.417034 -0.482202          -0.346410        1.585055   \n",
       "         2007-03-07 -1.166322 -0.781970          -0.346410        1.413958   \n",
       "...                       ...       ...                ...             ...   \n",
       "296318   2015-06-18 -0.814077 -1.064222          -0.233224        0.246631   \n",
       "         2015-06-19 -0.453941 -0.420047          -0.223607        0.187194   \n",
       "         2015-06-22 -0.332348 -0.332876          -0.213643        0.135294   \n",
       "         2015-06-23 -0.263860 -0.397089          -0.213643        0.084415   \n",
       "         2015-06-24  0.152692 -0.383478          -0.213643        0.032530   \n",
       "\n",
       "Unnamed: 0            return3  trend_aroon_up_x  trend_kst_sig_xcross  \\\n",
       "entityID date                                                           \n",
       "1034     2007-03-01 -1.158417          0.044489              1.309489   \n",
       "         2007-03-02 -1.051987         -0.076155              1.194980   \n",
       "         2007-03-05 -1.079901         -0.197374              1.082079   \n",
       "         2007-03-06 -0.833036         -0.319342              0.973049   \n",
       "         2007-03-07 -0.064518         -0.442233              0.866362   \n",
       "...                       ...               ...                   ...   \n",
       "296318   2015-06-18 -0.912404         -0.685094              0.236132   \n",
       "         2015-06-19 -0.472658         -0.810800              0.044007   \n",
       "         2015-06-22 -0.169944         -0.937884             -0.139523   \n",
       "         2015-06-23  0.374766         -0.666060             -0.316600   \n",
       "         2015-06-24 -0.234845         -0.794524             -0.482840   \n",
       "\n",
       "Unnamed: 0            price60  \n",
       "entityID date                  \n",
       "1034     2007-03-01 -0.144539  \n",
       "         2007-03-02 -0.318112  \n",
       "         2007-03-05 -0.153304  \n",
       "         2007-03-06  0.014485  \n",
       "         2007-03-07 -0.098277  \n",
       "...                       ...  \n",
       "296318   2015-06-18 -1.631751  \n",
       "         2015-06-19 -1.588879  \n",
       "         2015-06-22 -1.558805  \n",
       "         2015-06-23 -1.578370  \n",
       "         2015-06-24 -1.579829  \n",
       "\n",
       "[5958419 rows x 100 columns]"
      ]
     },
     "execution_count": 14,
     "metadata": {},
     "output_type": "execute_result"
    }
   ],
   "source": [
    "features"
   ]
  },
  {
   "cell_type": "code",
   "execution_count": 19,
   "metadata": {},
   "outputs": [
    {
     "name": "stderr",
     "output_type": "stream",
     "text": [
      "/home/sr4376/miniconda3/envs/testCheckv3/lib/python3.6/site-packages/ipykernel_launcher.py:13: DeprecationWarning: Support for multi-dimensional indexing (e.g. `index[:, None]`) on an Index is deprecated and will be removed in a future version.  Convert to a numpy array before indexing instead.\n",
      "  del sys.path[0]\n",
      "0it [00:00, ?it/s]\n",
      "0it [00:00, ?it/s]\n",
      "0it [00:00, ?it/s]"
     ]
    },
    {
     "name": "stdout",
     "output_type": "stream",
     "text": [
      "2007\n"
     ]
    },
    {
     "name": "stderr",
     "output_type": "stream",
     "text": [
      "\n"
     ]
    },
    {
     "name": "stdout",
     "output_type": "stream",
     "text": [
      "2008\n"
     ]
    },
    {
     "name": "stderr",
     "output_type": "stream",
     "text": [
      "100%|██████████| 2699/2699 [02:13<00:00, 20.16it/s]\n",
      "100%|██████████| 586134/586134 [00:17<00:00, 33127.22it/s]\n",
      "100%|██████████| 586134/586134 [00:14<00:00, 39375.70it/s]\n"
     ]
    },
    {
     "name": "stdout",
     "output_type": "stream",
     "text": [
      "2009\n"
     ]
    },
    {
     "name": "stderr",
     "output_type": "stream",
     "text": [
      "100%|██████████| 2830/2830 [02:24<00:00, 19.62it/s]\n",
      "100%|██████████| 616867/616867 [00:18<00:00, 33539.23it/s]\n",
      "100%|██████████| 616867/616867 [00:15<00:00, 39802.49it/s]\n"
     ]
    },
    {
     "name": "stdout",
     "output_type": "stream",
     "text": [
      "2010\n"
     ]
    },
    {
     "name": "stderr",
     "output_type": "stream",
     "text": [
      "100%|██████████| 2917/2917 [02:35<00:00, 18.74it/s]\n",
      "100%|██████████| 648324/648324 [00:19<00:00, 33108.71it/s]\n",
      "100%|██████████| 648324/648324 [00:16<00:00, 39948.01it/s]\n"
     ]
    },
    {
     "name": "stdout",
     "output_type": "stream",
     "text": [
      "2011\n"
     ]
    },
    {
     "name": "stderr",
     "output_type": "stream",
     "text": [
      "100%|██████████| 2965/2965 [02:40<00:00, 18.52it/s]\n",
      "100%|██████████| 675363/675363 [00:20<00:00, 33058.45it/s]\n",
      "100%|██████████| 675363/675363 [00:17<00:00, 39629.38it/s]\n"
     ]
    },
    {
     "name": "stdout",
     "output_type": "stream",
     "text": [
      "2012\n"
     ]
    },
    {
     "name": "stderr",
     "output_type": "stream",
     "text": [
      "100%|██████████| 3002/3002 [02:42<00:00, 18.48it/s]\n",
      "100%|██████████| 679161/679161 [00:20<00:00, 33158.47it/s]\n",
      "100%|██████████| 679161/679161 [00:17<00:00, 39223.59it/s]\n"
     ]
    },
    {
     "name": "stdout",
     "output_type": "stream",
     "text": [
      "2013\n"
     ]
    },
    {
     "name": "stderr",
     "output_type": "stream",
     "text": [
      "100%|██████████| 3044/3044 [02:42<00:00, 18.78it/s]\n",
      "100%|██████████| 681305/681305 [00:20<00:00, 33628.13it/s]\n",
      "100%|██████████| 681305/681305 [00:17<00:00, 39627.27it/s]\n"
     ]
    },
    {
     "name": "stdout",
     "output_type": "stream",
     "text": [
      "2014\n"
     ]
    },
    {
     "name": "stderr",
     "output_type": "stream",
     "text": [
      "100%|██████████| 3094/3094 [02:48<00:00, 18.31it/s]\n",
      "100%|██████████| 701837/701837 [00:21<00:00, 32867.03it/s]\n",
      "100%|██████████| 701837/701837 [00:17<00:00, 40353.11it/s]\n"
     ]
    }
   ],
   "source": [
    "\n",
    "datesCheck=features.index.get_level_values(1).unique().sort_values()\n",
    "allDates = features.index.get_level_values(1)\n",
    "gc.collect()\n",
    "predictionPeriod=1\n",
    "LSTMLength=21\n",
    "yearsBack=np.arange(1,2)\n",
    "featureLength=features.shape[1]\n",
    "for jj in yearsBack:\n",
    "    years=np.arange(2007,2015)\n",
    "    for ii in years:\n",
    "        print(ii)\n",
    "        lowYear=ii-jj\n",
    "        TrainStartdate =  datesCheck[np.argwhere((datesCheck == datesCheck[datesCheck > str(ii-jj)].min())==True)-LSTMLength]        \n",
    "        \n",
    "        TrainDataMask  = (allDates>=TrainStartdate[0][0])  & (allDates<=str(ii))\n",
    "        \n",
    "        TrainData=features[TrainDataMask]\n",
    "        Traintarget = targets[TrainDataMask]\n",
    "        TrainSet = DataGenerator(TrainData,Traintarget,LSTMLength,1)\n",
    "        trainData=list()\n",
    "        trainTarget=list()\n",
    "        \n",
    "        for kk in tqdm(range(0,len(TrainSet))):\n",
    "            trainData.append(TrainSet[kk][0].reshape((LSTMLength,featureLength,1)))\n",
    "        trainData = np.array(trainData)\n",
    "        \n",
    "        with gzip.open('/beegfs/sr4376/Finance Data/LSTM/yearsBack/CNNFeatureYear' + str(ii) +'lookBackYear' + str(jj) + 'LSTMWindow' + str(LSTMLength) + 'NumberOfFeatures' + str(features.shape[1]) + '.pklz', 'wb') as handle:\n",
    "            pickle.dump(trainData, handle, protocol=pickle.HIGHEST_PROTOCOL)\n",
    "        \n",
    "        \n",
    "        trainData=[]\n",
    "        \n",
    "        \n",
    "        for kk in tqdm(range(0,len(TrainSet))):\n",
    "            trainTarget.append(TrainSet[kk][1].reshape((1)))\n",
    "        trainTarget = np.array(trainTarget) \n",
    "               \n",
    "\n",
    "        with gzip.open('/beegfs/sr4376/Finance Data/LSTM/yearsBack/CNNTargetYear' + str(ii) +'lookBackYear' +str(jj) + 'LSTMWindow' + str(LSTMLength) + 'NumberOfFeatures' + str(features.shape[1]) +  '.pklz', 'wb') as handle:\n",
    "            pickle.dump(trainTarget, handle, protocol=pickle.HIGHEST_PROTOCOL)\n",
    "         \n",
    "        \n",
    "        trainTarget=[]\n",
    "        \n",
    "        with open('/beegfs/sr4376/Finance Data/LSTM/yearsBack/indexObjectYear' + str(ii) +'lookBackYear' +str(jj) + 'LSTMWindow' + str(LSTMLength) + 'NumberOfFeatures' + str(features.shape[1]) +  '.csv', 'wb') as handle:\n",
    "            TrainSet.indexObject.to_csv('/beegfs/sr4376/Finance Data/LSTM/yearsBack/indexObjectYear' + str(ii) +'lookBackYear' +str(jj) + 'LSTMWindow' + str(LSTMLength) + 'NumberOfFeatures' + str(features.shape[1]) +  '.csv')\n",
    "        \n",
    "        "
   ]
  },
  {
   "cell_type": "code",
   "execution_count": 20,
   "metadata": {},
   "outputs": [
    {
     "name": "stderr",
     "output_type": "stream",
     "text": [
      "/home/sr4376/miniconda3/envs/testCheckv3/lib/python3.6/site-packages/ipykernel_launcher.py:13: DeprecationWarning: Support for multi-dimensional indexing (e.g. `index[:, None]`) on an Index is deprecated and will be removed in a future version.  Convert to a numpy array before indexing instead.\n",
      "  del sys.path[0]\n",
      "0it [00:00, ?it/s]\n",
      "0it [00:00, ?it/s]\n",
      "0it [00:00, ?it/s]"
     ]
    },
    {
     "name": "stdout",
     "output_type": "stream",
     "text": [
      "2007\n",
      "2008\n"
     ]
    },
    {
     "name": "stderr",
     "output_type": "stream",
     "text": [
      "\n",
      "100%|██████████| 2699/2699 [02:13<00:00, 20.23it/s]\n",
      "100%|██████████| 586134/586134 [00:17<00:00, 33217.47it/s]\n",
      "100%|██████████| 586134/586134 [00:14<00:00, 40380.53it/s]\n"
     ]
    },
    {
     "name": "stdout",
     "output_type": "stream",
     "text": [
      "2009\n"
     ]
    },
    {
     "name": "stderr",
     "output_type": "stream",
     "text": [
      "100%|██████████| 2830/2830 [02:24<00:00, 19.58it/s]\n",
      "100%|██████████| 616867/616867 [00:18<00:00, 33368.47it/s]\n",
      "100%|██████████| 616867/616867 [00:15<00:00, 40205.55it/s]\n"
     ]
    },
    {
     "name": "stdout",
     "output_type": "stream",
     "text": [
      "2010\n"
     ]
    },
    {
     "name": "stderr",
     "output_type": "stream",
     "text": [
      "100%|██████████| 2917/2917 [02:36<00:00, 18.63it/s]\n",
      "100%|██████████| 648324/648324 [00:19<00:00, 33323.32it/s]\n",
      "100%|██████████| 648324/648324 [00:16<00:00, 39672.78it/s]\n"
     ]
    },
    {
     "name": "stdout",
     "output_type": "stream",
     "text": [
      "2011\n"
     ]
    },
    {
     "name": "stderr",
     "output_type": "stream",
     "text": [
      "100%|██████████| 2965/2965 [02:41<00:00, 18.35it/s]\n",
      "100%|██████████| 675363/675363 [00:20<00:00, 33103.24it/s]\n",
      "100%|██████████| 675363/675363 [00:17<00:00, 39617.28it/s]\n"
     ]
    },
    {
     "name": "stdout",
     "output_type": "stream",
     "text": [
      "2012\n"
     ]
    },
    {
     "name": "stderr",
     "output_type": "stream",
     "text": [
      "100%|██████████| 3002/3002 [02:47<00:00, 17.93it/s]\n",
      "100%|██████████| 679161/679161 [00:20<00:00, 32766.91it/s]\n",
      "100%|██████████| 679161/679161 [00:16<00:00, 40051.98it/s]\n"
     ]
    },
    {
     "name": "stdout",
     "output_type": "stream",
     "text": [
      "2013\n"
     ]
    },
    {
     "name": "stderr",
     "output_type": "stream",
     "text": [
      "100%|██████████| 3044/3044 [02:44<00:00, 18.52it/s]\n",
      "100%|██████████| 681305/681305 [00:20<00:00, 33098.91it/s]\n",
      "100%|██████████| 681305/681305 [00:17<00:00, 39970.99it/s]\n"
     ]
    },
    {
     "name": "stdout",
     "output_type": "stream",
     "text": [
      "2014\n"
     ]
    },
    {
     "name": "stderr",
     "output_type": "stream",
     "text": [
      "100%|██████████| 3094/3094 [02:51<00:00, 18.06it/s]\n",
      "100%|██████████| 701837/701837 [00:21<00:00, 33213.70it/s]\n",
      "100%|██████████| 701837/701837 [00:17<00:00, 39855.10it/s]\n"
     ]
    }
   ],
   "source": [
    "\n",
    "datesCheck=features.index.get_level_values(1).unique().sort_values()\n",
    "allDates = features.index.get_level_values(1)\n",
    "gc.collect()\n",
    "predictionPeriod=1\n",
    "LSTMLength=21\n",
    "yearsBack=np.arange(1,2)\n",
    "featureLength=features.shape[1]\n",
    "for jj in yearsBack:\n",
    "    years=np.arange(2007,2015)\n",
    "    for ii in years:\n",
    "        print(ii)\n",
    "        lowYear=ii-jj\n",
    "        TrainStartdate =  datesCheck[np.argwhere((datesCheck == datesCheck[datesCheck > str(ii-jj)].min())==True)-LSTMLength]        \n",
    "        \n",
    "        TrainDataMask  = (allDates>=TrainStartdate[0][0])  & (allDates<=str(ii))\n",
    "        \n",
    "        TrainData=features[TrainDataMask]\n",
    "        Traintarget = targets[TrainDataMask]\n",
    "        TrainSet = DataGenerator(TrainData,Traintarget,LSTMLength,1)\n",
    "        trainData=list()\n",
    "        trainTarget=list()\n",
    "        \n",
    "        for kk in tqdm(range(0,len(TrainSet))):\n",
    "            trainData.append(TrainSet[kk][0].reshape((LSTMLength,featureLength)))\n",
    "        trainData = np.array(trainData)\n",
    "        \n",
    "        with gzip.open('/beegfs/sr4376/Finance Data/LSTM/yearsBack/FeatureYear' + str(ii) +'lookBackYear' + str(jj) + 'LSTMWindow' + str(LSTMLength) + 'NumberOfFeatures' + str(features.shape[1]) + '.pklz', 'wb') as handle:\n",
    "            pickle.dump(trainData, handle, protocol=pickle.HIGHEST_PROTOCOL)\n",
    "        \n",
    "        \n",
    "        trainData=[]\n",
    "        \n",
    "        \n",
    "        for kk in tqdm(range(0,len(TrainSet))):\n",
    "            trainTarget.append(TrainSet[kk][1].reshape((1)))\n",
    "        trainTarget = np.array(trainTarget) \n",
    "               \n",
    "\n",
    "        with gzip.open('/beegfs/sr4376/Finance Data/LSTM/yearsBack/TargetYear' + str(ii) +'lookBackYear' +str(jj) + 'LSTMWindow' + str(LSTMLength) + 'NumberOfFeatures' + str(features.shape[1]) +  '.pklz', 'wb') as handle:\n",
    "            pickle.dump(trainTarget, handle, protocol=pickle.HIGHEST_PROTOCOL)\n",
    "         \n",
    "        \n",
    "        trainTarget=[]\n",
    "        \n",
    "        with open('/beegfs/sr4376/Finance Data/LSTM/yearsBack/indexObjectYear' + str(ii) +'lookBackYear' +str(jj) + 'LSTMWindow' + str(LSTMLength) + 'NumberOfFeatures' + str(features.shape[1]) +  '.csv', 'wb') as handle:\n",
    "            TrainSet.indexObject.to_csv('/beegfs/sr4376/Finance Data/LSTM/yearsBack/indexObjectYear' + str(ii) +'lookBackYear' +str(jj) + 'LSTMWindow' + str(LSTMLength) + 'NumberOfFeatures' + str(features.shape[1]) +  '.csv')\n",
    "        \n",
    "        "
   ]
  }
 ],
 "metadata": {
  "kernelspec": {
   "display_name": "Python 3",
   "language": "python",
   "name": "python3"
  },
  "language_info": {
   "codemirror_mode": {
    "name": "ipython",
    "version": 3
   },
   "file_extension": ".py",
   "mimetype": "text/x-python",
   "name": "python",
   "nbconvert_exporter": "python",
   "pygments_lexer": "ipython3",
   "version": "3.7.3"
  }
 },
 "nbformat": 4,
 "nbformat_minor": 2
}
